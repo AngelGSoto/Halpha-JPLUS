{
 "cells": [
  {
   "cell_type": "markdown",
   "metadata": {},
   "source": [
    "This is a simply script to make table with the format of lamost for cross-match."
   ]
  },
  {
   "cell_type": "code",
   "execution_count": 1,
   "metadata": {},
   "outputs": [],
   "source": [
    "from astropy.table import Table\n",
    "import numpy as np"
   ]
  },
  {
   "cell_type": "code",
   "execution_count": 2,
   "metadata": {},
   "outputs": [],
   "source": [
    "tab = Table.read(\"../JPLUS_data_6arc-HDBnoise_Ha.tab\", format=\"ascii.tab\")"
   ]
  },
  {
   "cell_type": "code",
   "execution_count": 3,
   "metadata": {},
   "outputs": [
    {
     "data": {
      "text/html": [
       "<i>Table length=7801</i>\n",
       "<table id=\"table140593972667200\" class=\"table-striped table-bordered table-condensed\">\n",
       "<thead><tr><th>Tile</th><th>Number</th><th>RA</th><th>Dec</th><th>petro_radius</th><th>kron_radius</th><th>rSDSS_MAG_APER_6_0</th><th>gSDSS_MAG_APER_6_0</th><th>iSDSS_MAG_APER_6_0</th><th>zSDSS_MAG_APER_6_0</th><th>uJAVA_MAG_APER_6_0</th><th>J0378_MAG_APER_6_0</th><th>J0395_MAG_APER_6_0</th><th>J0410_MAG_APER_6_0</th><th>J0430_MAG_APER_6_0</th><th>J0515_MAG_APER_6_0</th><th>J0660_MAG_APER_6_0</th><th>J0861_MAG_APER_6_0</th><th>rSDSS_MAG_APER_6_0_err</th><th>gSDSS_MAG_APER_6_0_err</th><th>iSDSS_MAG_APER_6_0_err</th><th>zSDSS_MAG_APER_6_0_err</th><th>uJAVA_MAG_APER_6_0_err</th><th>J0378_MAG_APER_6_0_err</th><th>J0395_MAG_APER_6_0_err</th><th>J0410_MAG_APER_6_0_err</th><th>J0430_MAG_APER_6_0_err</th><th>J0515_MAG_APER_6_0_err</th><th>J0660_MAG_APER_6_0_err</th><th>J0861_MAG_APER_6_0_err</th><th>rSDSS_FLAGS</th><th>gSDSS_FLAGS</th><th>iSDSS_FLAGS</th><th>zSDSS_FLAGS</th><th>uJAVA_FLAGS</th><th>J0378_FLAGS</th><th>J0395_FLAGS</th><th>J0410_FLAGS</th><th>J0430_FLAGS</th><th>J0515_FLAGS</th><th>J0660_FLAGS</th><th>J0861_FLAGS</th><th>rSDSS_MASK_FLAGS</th><th>gSDSS_MASK_FLAGS</th><th>iSDSS_MASK_FLAGS</th><th>zSDSS_MASK_FLAGS</th><th>uJAVA_MASK_FLAGS</th><th>J0378_MASK_FLAGS</th><th>J0395_MASK_FLAGS</th><th>J0410_MASK_FLAGS</th><th>J0430_MASK_FLAGS</th><th>J0515_MASK_FLAGS</th><th>J0660_MASK_FLAGS</th><th>J0861_MASK_FLAGS</th><th>HDBSCAN_opt_labels</th></tr></thead>\n",
       "<thead><tr><th>int64</th><th>int64</th><th>float64</th><th>float64</th><th>float64</th><th>float64</th><th>float64</th><th>float64</th><th>float64</th><th>float64</th><th>float64</th><th>float64</th><th>float64</th><th>float64</th><th>float64</th><th>float64</th><th>float64</th><th>float64</th><th>float64</th><th>float64</th><th>float64</th><th>float64</th><th>float64</th><th>float64</th><th>float64</th><th>float64</th><th>float64</th><th>float64</th><th>float64</th><th>float64</th><th>int64</th><th>int64</th><th>int64</th><th>int64</th><th>int64</th><th>int64</th><th>int64</th><th>int64</th><th>int64</th><th>int64</th><th>int64</th><th>int64</th><th>int64</th><th>int64</th><th>int64</th><th>int64</th><th>int64</th><th>int64</th><th>int64</th><th>int64</th><th>int64</th><th>int64</th><th>int64</th><th>int64</th><th>int64</th></tr></thead>\n",
       "<tr><td>69300</td><td>3012</td><td>181.533993206</td><td>56.4464970079</td><td>3.96000004</td><td>3.5</td><td>18.579</td><td>18.883</td><td>18.437</td><td>18.649</td><td>19.76</td><td>19.891</td><td>19.629</td><td>19.075</td><td>19.023</td><td>18.731</td><td>18.533</td><td>18.535</td><td>0.038</td><td>0.044</td><td>0.085</td><td>0.127</td><td>0.152</td><td>0.18</td><td>0.145</td><td>0.094</td><td>0.088</td><td>0.071</td><td>0.065</td><td>0.103</td><td>0</td><td>0</td><td>0</td><td>0</td><td>0</td><td>0</td><td>0</td><td>0</td><td>0</td><td>0</td><td>0</td><td>0</td><td>0</td><td>0</td><td>0</td><td>0</td><td>0</td><td>0</td><td>0</td><td>0</td><td>0</td><td>0</td><td>0</td><td>0</td><td>-1</td></tr>\n",
       "<tr><td>69300</td><td>3014</td><td>180.038386495</td><td>56.4383294344</td><td>5.93999958</td><td>4.16863012</td><td>17.801</td><td>18.558</td><td>17.413</td><td>17.145</td><td>19.731</td><td>19.71</td><td>19.596</td><td>19.24</td><td>18.978</td><td>18.256</td><td>17.641</td><td>17.24</td><td>0.021</td><td>0.035</td><td>0.037</td><td>0.035</td><td>0.152</td><td>0.156</td><td>0.144</td><td>0.111</td><td>0.085</td><td>0.049</td><td>0.032</td><td>0.034</td><td>0</td><td>0</td><td>0</td><td>0</td><td>0</td><td>0</td><td>0</td><td>0</td><td>0</td><td>0</td><td>0</td><td>0</td><td>0</td><td>0</td><td>0</td><td>0</td><td>0</td><td>0</td><td>0</td><td>0</td><td>0</td><td>0</td><td>0</td><td>0</td><td>-1</td></tr>\n",
       "<tr><td>62913</td><td>6569</td><td>145.363301589</td><td>30.068638323</td><td>3.96000004</td><td>3.5</td><td>17.782</td><td>18.488</td><td>17.593</td><td>17.499</td><td>20.017</td><td>19.858</td><td>19.614</td><td>19.089</td><td>18.836</td><td>18.349</td><td>17.62</td><td>17.411</td><td>0.011</td><td>0.015</td><td>0.021</td><td>0.05</td><td>0.173</td><td>0.154</td><td>0.125</td><td>0.084</td><td>0.066</td><td>0.047</td><td>0.03</td><td>0.038</td><td>0</td><td>0</td><td>0</td><td>0</td><td>0</td><td>0</td><td>0</td><td>0</td><td>0</td><td>0</td><td>0</td><td>0</td><td>0</td><td>0</td><td>0</td><td>0</td><td>0</td><td>0</td><td>0</td><td>0</td><td>0</td><td>0</td><td>0</td><td>0</td><td>-1</td></tr>\n",
       "<tr><td>69300</td><td>3196</td><td>182.029985903</td><td>56.4601296126</td><td>5.27999973</td><td>3.73252344</td><td>17.51</td><td>18.123</td><td>17.194</td><td>16.992</td><td>19.234</td><td>19.121</td><td>18.922</td><td>18.765</td><td>18.372</td><td>17.912</td><td>17.384</td><td>17.121</td><td>0.017</td><td>0.025</td><td>0.03</td><td>0.03</td><td>0.096</td><td>0.092</td><td>0.079</td><td>0.072</td><td>0.052</td><td>0.038</td><td>0.026</td><td>0.031</td><td>0</td><td>0</td><td>0</td><td>0</td><td>0</td><td>0</td><td>0</td><td>0</td><td>0</td><td>0</td><td>0</td><td>0</td><td>0</td><td>0</td><td>0</td><td>0</td><td>0</td><td>0</td><td>0</td><td>0</td><td>0</td><td>0</td><td>0</td><td>0</td><td>-1</td></tr>\n",
       "<tr><td>69300</td><td>3197</td><td>180.727314421</td><td>56.4618437895</td><td>3.5</td><td>3.5</td><td>16.231</td><td>16.155</td><td>16.434</td><td>16.441</td><td>17.518</td><td>16.749</td><td>16.293</td><td>16.123</td><td>16.126</td><td>16.111</td><td>16.334</td><td>16.437</td><td>0.007</td><td>0.006</td><td>0.017</td><td>0.019</td><td>0.025</td><td>0.015</td><td>0.012</td><td>0.011</td><td>0.01</td><td>0.011</td><td>0.012</td><td>0.018</td><td>0</td><td>0</td><td>0</td><td>0</td><td>0</td><td>0</td><td>0</td><td>0</td><td>0</td><td>0</td><td>0</td><td>0</td><td>0</td><td>0</td><td>0</td><td>0</td><td>0</td><td>0</td><td>0</td><td>0</td><td>0</td><td>0</td><td>0</td><td>0</td><td>-1</td></tr>\n",
       "<tr><td>69300</td><td>3242</td><td>180.558291068</td><td>56.462619191</td><td>3.5</td><td>3.5</td><td>15.29</td><td>16.555</td><td>14.696</td><td>14.403</td><td>19.225</td><td>19.278</td><td>18.72</td><td>17.775</td><td>17.464</td><td>16.467</td><td>15.034</td><td>14.466</td><td>0.004</td><td>0.008</td><td>0.006</td><td>0.005</td><td>0.097</td><td>0.106</td><td>0.067</td><td>0.033</td><td>0.025</td><td>0.013</td><td>0.006</td><td>0.005</td><td>0</td><td>0</td><td>0</td><td>0</td><td>0</td><td>0</td><td>0</td><td>0</td><td>0</td><td>0</td><td>0</td><td>0</td><td>0</td><td>0</td><td>0</td><td>0</td><td>0</td><td>0</td><td>0</td><td>0</td><td>0</td><td>0</td><td>0</td><td>0</td><td>-1</td></tr>\n",
       "<tr><td>62913</td><td>6882</td><td>145.549443782</td><td>30.0828146349</td><td>3.5</td><td>3.5</td><td>16.729</td><td>17.581</td><td>16.443</td><td>16.272</td><td>20.052</td><td>19.502</td><td>19.381</td><td>18.424</td><td>18.23</td><td>17.465</td><td>16.556</td><td>16.318</td><td>0.005</td><td>0.008</td><td>0.009</td><td>0.018</td><td>0.18</td><td>0.113</td><td>0.103</td><td>0.048</td><td>0.041</td><td>0.024</td><td>0.014</td><td>0.016</td><td>0</td><td>0</td><td>0</td><td>0</td><td>0</td><td>0</td><td>0</td><td>0</td><td>0</td><td>0</td><td>0</td><td>0</td><td>0</td><td>0</td><td>0</td><td>0</td><td>0</td><td>0</td><td>0</td><td>0</td><td>0</td><td>0</td><td>0</td><td>0</td><td>-1</td></tr>\n",
       "<tr><td>69300</td><td>3496</td><td>181.404597629</td><td>56.4907846414</td><td>3.96000004</td><td>3.5</td><td>16.634</td><td>17.536</td><td>16.268</td><td>16.08</td><td>19.314</td><td>19.275</td><td>19.507</td><td>18.31</td><td>18.138</td><td>17.432</td><td>16.487</td><td>16.135</td><td>0.009</td><td>0.015</td><td>0.015</td><td>0.014</td><td>0.103</td><td>0.104</td><td>0.129</td><td>0.049</td><td>0.042</td><td>0.025</td><td>0.014</td><td>0.014</td><td>0</td><td>0</td><td>0</td><td>0</td><td>0</td><td>0</td><td>0</td><td>0</td><td>0</td><td>0</td><td>0</td><td>0</td><td>0</td><td>0</td><td>0</td><td>0</td><td>0</td><td>0</td><td>0</td><td>0</td><td>0</td><td>0</td><td>0</td><td>0</td><td>-1</td></tr>\n",
       "<tr><td>69300</td><td>3567</td><td>180.869265753</td><td>56.4992705861</td><td>4.61999989</td><td>3.51735687</td><td>18.349</td><td>18.894</td><td>17.983</td><td>17.79</td><td>19.75</td><td>19.654</td><td>19.714</td><td>19.43</td><td>19.172</td><td>18.553</td><td>18.162</td><td>18.025</td><td>0.031</td><td>0.045</td><td>0.057</td><td>0.059</td><td>0.151</td><td>0.146</td><td>0.156</td><td>0.128</td><td>0.099</td><td>0.061</td><td>0.047</td><td>0.066</td><td>0</td><td>0</td><td>0</td><td>0</td><td>0</td><td>0</td><td>0</td><td>0</td><td>0</td><td>0</td><td>0</td><td>0</td><td>0</td><td>0</td><td>0</td><td>0</td><td>0</td><td>0</td><td>0</td><td>0</td><td>0</td><td>0</td><td>0</td><td>0</td><td>-1</td></tr>\n",
       "<tr><td>69300</td><td>3601</td><td>181.493315274</td><td>56.4947957012</td><td>5.27999973</td><td>3.5</td><td>16.911</td><td>17.911</td><td>16.518</td><td>16.208</td><td>19.865</td><td>19.398</td><td>19.241</td><td>19.122</td><td>18.706</td><td>17.483</td><td>16.726</td><td>16.263</td><td>0.011</td><td>0.021</td><td>0.018</td><td>0.016</td><td>0.168</td><td>0.116</td><td>0.102</td><td>0.098</td><td>0.067</td><td>0.027</td><td>0.016</td><td>0.016</td><td>0</td><td>0</td><td>0</td><td>0</td><td>0</td><td>0</td><td>0</td><td>0</td><td>0</td><td>0</td><td>0</td><td>0</td><td>0</td><td>0</td><td>0</td><td>0</td><td>0</td><td>0</td><td>0</td><td>0</td><td>0</td><td>0</td><td>0</td><td>0</td><td>-1</td></tr>\n",
       "<tr><td>...</td><td>...</td><td>...</td><td>...</td><td>...</td><td>...</td><td>...</td><td>...</td><td>...</td><td>...</td><td>...</td><td>...</td><td>...</td><td>...</td><td>...</td><td>...</td><td>...</td><td>...</td><td>...</td><td>...</td><td>...</td><td>...</td><td>...</td><td>...</td><td>...</td><td>...</td><td>...</td><td>...</td><td>...</td><td>...</td><td>...</td><td>...</td><td>...</td><td>...</td><td>...</td><td>...</td><td>...</td><td>...</td><td>...</td><td>...</td><td>...</td><td>...</td><td>...</td><td>...</td><td>...</td><td>...</td><td>...</td><td>...</td><td>...</td><td>...</td><td>...</td><td>...</td><td>...</td><td>...</td><td>...</td></tr>\n",
       "<tr><td>64235</td><td>12290</td><td>183.912708236</td><td>36.3272392141</td><td>6.59999943</td><td>3.5</td><td>15.225</td><td>15.225</td><td>15.387</td><td>15.311</td><td>15.421</td><td>15.206</td><td>15.368</td><td>15.335</td><td>15.339</td><td>15.43</td><td>14.277</td><td>15.421</td><td>0.003</td><td>0.003</td><td>0.004</td><td>0.006</td><td>0.009</td><td>0.008</td><td>0.009</td><td>0.007</td><td>0.007</td><td>0.007</td><td>0.004</td><td>0.008</td><td>2</td><td>2</td><td>2</td><td>2</td><td>2</td><td>2</td><td>2</td><td>2</td><td>2</td><td>2</td><td>2</td><td>2</td><td>0</td><td>0</td><td>0</td><td>0</td><td>0</td><td>0</td><td>0</td><td>0</td><td>0</td><td>0</td><td>0</td><td>0</td><td>-1</td></tr>\n",
       "<tr><td>62260</td><td>25705</td><td>105.891829325</td><td>23.4061599262</td><td>3.5</td><td>3.5</td><td>18.612</td><td>18.877</td><td>18.513</td><td>18.413</td><td>19.843</td><td>19.25</td><td>19.515</td><td>18.973</td><td>18.85</td><td>18.802</td><td>18.541</td><td>18.435</td><td>0.031</td><td>0.042</td><td>0.027</td><td>0.058</td><td>0.2</td><td>0.126</td><td>0.165</td><td>0.083</td><td>0.074</td><td>0.069</td><td>0.053</td><td>0.073</td><td>2</td><td>2</td><td>2</td><td>2</td><td>2</td><td>2</td><td>2</td><td>2</td><td>2</td><td>2</td><td>2</td><td>2</td><td>0</td><td>0</td><td>0</td><td>0</td><td>0</td><td>0</td><td>0</td><td>0</td><td>0</td><td>0</td><td>0</td><td>0</td><td>-1</td></tr>\n",
       "<tr><td>62260</td><td>25844</td><td>106.346768542</td><td>23.4037661491</td><td>3.5</td><td>3.5</td><td>15.909</td><td>17.056</td><td>15.388</td><td>15.17</td><td>19.724</td><td>19.317</td><td>19.414</td><td>18.254</td><td>17.89</td><td>16.925</td><td>15.687</td><td>15.222</td><td>0.005</td><td>0.011</td><td>0.003</td><td>0.005</td><td>0.184</td><td>0.137</td><td>0.153</td><td>0.047</td><td>0.035</td><td>0.017</td><td>0.007</td><td>0.006</td><td>0</td><td>0</td><td>0</td><td>0</td><td>0</td><td>0</td><td>0</td><td>0</td><td>0</td><td>0</td><td>0</td><td>0</td><td>0</td><td>0</td><td>0</td><td>0</td><td>0</td><td>0</td><td>0</td><td>0</td><td>0</td><td>0</td><td>0</td><td>0</td><td>-1</td></tr>\n",
       "<tr><td>64235</td><td>13425</td><td>183.944263752</td><td>36.4836899206</td><td>3.5</td><td>3.5</td><td>15.117</td><td>16.369</td><td>14.541</td><td>14.297</td><td>19.37</td><td>19.179</td><td>18.572</td><td>17.687</td><td>17.362</td><td>16.285</td><td>14.88</td><td>14.338</td><td>0.003</td><td>0.006</td><td>0.002</td><td>0.003</td><td>0.153</td><td>0.126</td><td>0.072</td><td>0.031</td><td>0.023</td><td>0.011</td><td>0.004</td><td>0.004</td><td>0</td><td>0</td><td>0</td><td>0</td><td>0</td><td>0</td><td>0</td><td>0</td><td>0</td><td>0</td><td>0</td><td>0</td><td>0</td><td>0</td><td>0</td><td>0</td><td>0</td><td>0</td><td>0</td><td>0</td><td>0</td><td>0</td><td>0</td><td>0</td><td>-1</td></tr>\n",
       "<tr><td>64235</td><td>13833</td><td>184.709372223</td><td>36.4596707141</td><td>3.5</td><td>3.5</td><td>19.02</td><td>19.127</td><td>18.914</td><td>18.751</td><td>19.284</td><td>19.626</td><td>19.412</td><td>19.287</td><td>19.243</td><td>19.178</td><td>18.989</td><td>18.802</td><td>0.042</td><td>0.048</td><td>0.049</td><td>0.09</td><td>0.143</td><td>0.19</td><td>0.15</td><td>0.124</td><td>0.113</td><td>0.107</td><td>0.079</td><td>0.115</td><td>0</td><td>0</td><td>0</td><td>0</td><td>0</td><td>0</td><td>0</td><td>0</td><td>0</td><td>0</td><td>0</td><td>0</td><td>0</td><td>0</td><td>0</td><td>0</td><td>0</td><td>0</td><td>0</td><td>0</td><td>0</td><td>0</td><td>0</td><td>0</td><td>-1</td></tr>\n",
       "<tr><td>64235</td><td>14174</td><td>183.697842442</td><td>36.4316278108</td><td>3.5</td><td>3.5</td><td>18.575</td><td>18.914</td><td>18.517</td><td>18.625</td><td>19.25</td><td>19.645</td><td>19.419</td><td>18.916</td><td>18.902</td><td>18.792</td><td>18.532</td><td>18.375</td><td>0.029</td><td>0.04</td><td>0.035</td><td>0.08</td><td>0.138</td><td>0.192</td><td>0.151</td><td>0.089</td><td>0.083</td><td>0.077</td><td>0.053</td><td>0.078</td><td>0</td><td>0</td><td>0</td><td>0</td><td>0</td><td>0</td><td>0</td><td>0</td><td>0</td><td>0</td><td>0</td><td>0</td><td>0</td><td>0</td><td>0</td><td>0</td><td>0</td><td>0</td><td>0</td><td>0</td><td>0</td><td>0</td><td>0</td><td>0</td><td>-1</td></tr>\n",
       "<tr><td>64235</td><td>14214</td><td>184.592403226</td><td>36.4290694831</td><td>3.5</td><td>3.5</td><td>18.398</td><td>18.678</td><td>18.339</td><td>18.386</td><td>19.571</td><td>19.1</td><td>19.184</td><td>18.964</td><td>18.802</td><td>18.445</td><td>18.353</td><td>18.438</td><td>0.025</td><td>0.033</td><td>0.029</td><td>0.064</td><td>0.184</td><td>0.119</td><td>0.123</td><td>0.093</td><td>0.076</td><td>0.056</td><td>0.046</td><td>0.083</td><td>0</td><td>0</td><td>0</td><td>0</td><td>0</td><td>0</td><td>0</td><td>0</td><td>0</td><td>0</td><td>0</td><td>0</td><td>0</td><td>0</td><td>0</td><td>0</td><td>0</td><td>0</td><td>0</td><td>0</td><td>0</td><td>0</td><td>0</td><td>0</td><td>-1</td></tr>\n",
       "<tr><td>64235</td><td>15959</td><td>184.128917496</td><td>36.2881751612</td><td>3.5</td><td>3.5</td><td>16.283</td><td>16.405</td><td>16.279</td><td>16.35</td><td>17.444</td><td>17.035</td><td>16.824</td><td>16.597</td><td>16.54</td><td>16.332</td><td>16.294</td><td>16.3</td><td>0.005</td><td>0.006</td><td>0.006</td><td>0.011</td><td>0.034</td><td>0.025</td><td>0.021</td><td>0.015</td><td>0.014</td><td>0.012</td><td>0.011</td><td>0.014</td><td>0</td><td>0</td><td>0</td><td>0</td><td>0</td><td>0</td><td>0</td><td>0</td><td>0</td><td>0</td><td>0</td><td>0</td><td>0</td><td>0</td><td>0</td><td>0</td><td>0</td><td>0</td><td>0</td><td>0</td><td>0</td><td>0</td><td>0</td><td>0</td><td>-1</td></tr>\n",
       "<tr><td>64235</td><td>16200</td><td>183.739265845</td><td>36.2759743367</td><td>5.27999973</td><td>4.10279369</td><td>17.677</td><td>18.26</td><td>17.321</td><td>17.146</td><td>19.631</td><td>19.132</td><td>19.016</td><td>18.969</td><td>18.861</td><td>17.985</td><td>17.53</td><td>17.204</td><td>0.014</td><td>0.023</td><td>0.013</td><td>0.022</td><td>0.197</td><td>0.122</td><td>0.105</td><td>0.093</td><td>0.08</td><td>0.039</td><td>0.024</td><td>0.029</td><td>0</td><td>0</td><td>0</td><td>0</td><td>0</td><td>0</td><td>0</td><td>0</td><td>0</td><td>0</td><td>0</td><td>0</td><td>0</td><td>0</td><td>0</td><td>0</td><td>0</td><td>0</td><td>0</td><td>0</td><td>0</td><td>0</td><td>0</td><td>0</td><td>-1</td></tr>\n",
       "<tr><td>64235</td><td>16775</td><td>183.870419206</td><td>36.2491632428</td><td>3.96000004</td><td>3.86640167</td><td>19.215</td><td>18.958</td><td>19.48</td><td>19.436</td><td>18.834</td><td>19.087</td><td>18.818</td><td>18.945</td><td>18.903</td><td>19.113</td><td>19.1</td><td>19.238</td><td>0.049</td><td>0.041</td><td>0.08</td><td>0.165</td><td>0.097</td><td>0.118</td><td>0.089</td><td>0.092</td><td>0.083</td><td>0.101</td><td>0.087</td><td>0.168</td><td>0</td><td>0</td><td>0</td><td>0</td><td>0</td><td>0</td><td>0</td><td>0</td><td>0</td><td>0</td><td>0</td><td>0</td><td>0</td><td>0</td><td>0</td><td>0</td><td>0</td><td>0</td><td>0</td><td>0</td><td>0</td><td>0</td><td>0</td><td>0</td><td>-1</td></tr>\n",
       "</table>"
      ],
      "text/plain": [
       "<Table length=7801>\n",
       " Tile Number       RA      ... J0861_MASK_FLAGS HDBSCAN_opt_labels\n",
       "int64 int64     float64    ...      int64             int64       \n",
       "----- ------ ------------- ... ---------------- ------------------\n",
       "69300   3012 181.533993206 ...                0                 -1\n",
       "69300   3014 180.038386495 ...                0                 -1\n",
       "62913   6569 145.363301589 ...                0                 -1\n",
       "69300   3196 182.029985903 ...                0                 -1\n",
       "69300   3197 180.727314421 ...                0                 -1\n",
       "69300   3242 180.558291068 ...                0                 -1\n",
       "62913   6882 145.549443782 ...                0                 -1\n",
       "69300   3496 181.404597629 ...                0                 -1\n",
       "69300   3567 180.869265753 ...                0                 -1\n",
       "69300   3601 181.493315274 ...                0                 -1\n",
       "  ...    ...           ... ...              ...                ...\n",
       "64235  12290 183.912708236 ...                0                 -1\n",
       "62260  25705 105.891829325 ...                0                 -1\n",
       "62260  25844 106.346768542 ...                0                 -1\n",
       "64235  13425 183.944263752 ...                0                 -1\n",
       "64235  13833 184.709372223 ...                0                 -1\n",
       "64235  14174 183.697842442 ...                0                 -1\n",
       "64235  14214 184.592403226 ...                0                 -1\n",
       "64235  15959 184.128917496 ...                0                 -1\n",
       "64235  16200 183.739265845 ...                0                 -1\n",
       "64235  16775 183.870419206 ...                0                 -1"
      ]
     },
     "execution_count": 3,
     "metadata": {},
     "output_type": "execute_result"
    }
   ],
   "source": [
    "tab"
   ]
  },
  {
   "cell_type": "code",
   "execution_count": 4,
   "metadata": {},
   "outputs": [],
   "source": [
    "n = len(tab[\"RA\"])\n",
    "sep = np.linspace(2.0, 2.0, num=n)\n"
   ]
  },
  {
   "cell_type": "code",
   "execution_count": 5,
   "metadata": {},
   "outputs": [],
   "source": [
    "ra = tab[\"RA\"]\n",
    "dec = tab[\"Dec\"]\n",
    "table = Table([ra, dec, sep], names=('ra', 'dec', 'radius'), meta={'name': 'first table'})"
   ]
  },
  {
   "cell_type": "code",
   "execution_count": 6,
   "metadata": {},
   "outputs": [
    {
     "name": "stderr",
     "output_type": "stream",
     "text": [
      "WARNING: AstropyDeprecationWarning: ../PLUS_data_6arc-HDBnoise_Ha_coor_lamost.dat already exists. Automatically overwriting ASCII files is deprecated. Use the argument 'overwrite=True' in the future. [astropy.io.ascii.ui]\n"
     ]
    }
   ],
   "source": [
    "asciifile = \"../PLUS_data_6arc-HDBnoise_Ha_coor_lamost.dat\" \n",
    "table.write(asciifile, format=\"ascii.commented_header\", delimiter=',')\n"
   ]
  },
  {
   "cell_type": "code",
   "execution_count": 10,
   "metadata": {},
   "outputs": [],
   "source": [
    "# Table with the Halpha after de sigma correction\n",
    "tab_Sigmaha = Table.read(\"../JPLUS_data_6arc-HDBnoise_SigmaHa.tab\", format=\"ascii.tab\")\n",
    "n1 = len(tab_Sigmaha[\"RA\"])\n",
    "sep1 = np.linspace(2.0, 2.0, num=n)\n",
    "ra1 = tab_Sigmaha[\"RA\"]\n",
    "dec1 = tab_Sigmaha[\"Dec\"]\n",
    "table1 = Table([ra1, dec1, sep1], names=('ra', 'dec', 'radius'), meta={'name': 'first table'})\n"
   ]
  },
  {
   "cell_type": "code",
   "execution_count": 11,
   "metadata": {},
   "outputs": [],
   "source": [
    "asciifile1 = \"../JPLUS_data_6arc-HDBnoise_SigmaHa.dat\" \n",
    "table1.write(asciifile1, format=\"ascii.commented_header\", delimiter=',')"
   ]
  },
  {
   "cell_type": "code",
   "execution_count": null,
   "metadata": {},
   "outputs": [],
   "source": []
  }
 ],
 "metadata": {
  "kernelspec": {
   "display_name": "Python 3",
   "language": "python",
   "name": "python3"
  },
  "language_info": {
   "codemirror_mode": {
    "name": "ipython",
    "version": 3
   },
   "file_extension": ".py",
   "mimetype": "text/x-python",
   "name": "python",
   "nbconvert_exporter": "python",
   "pygments_lexer": "ipython3",
   "version": "3.8.5"
  }
 },
 "nbformat": 4,
 "nbformat_minor": 4
}
